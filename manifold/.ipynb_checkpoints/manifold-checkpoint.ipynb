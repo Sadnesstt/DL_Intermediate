{
 "cells": [
  {
   "cell_type": "code",
   "execution_count": 1,
   "id": "d7f3ea8e",
   "metadata": {},
   "outputs": [],
   "source": [
    "import numpy as np\n",
    "import matplotlib.pyplot as plt"
   ]
  },
  {
   "cell_type": "code",
   "execution_count": 2,
   "id": "8944b292",
   "metadata": {},
   "outputs": [],
   "source": [
    "import torch\n",
    "import torch.nn as nn\n",
    "import torch.optim as optim"
   ]
  },
  {
   "cell_type": "code",
   "execution_count": 3,
   "id": "d10c09d2",
   "metadata": {},
   "outputs": [],
   "source": [
    "from utils import load_mnist\n",
    "from trainer import Trainer"
   ]
  },
  {
   "cell_type": "code",
   "execution_count": 4,
   "id": "543ba4b9",
   "metadata": {},
   "outputs": [],
   "source": [
    "def show_image(x):\n",
    "    if x.dim() == 1:\n",
    "        x = x.view(int(x.size(0) ** .5), -1)\n",
    "        \n",
    "    plt.imshow(x, cmap = 'gray')\n",
    "    plt.show()"
   ]
  },
  {
   "cell_type": "code",
   "execution_count": 5,
   "id": "450800e1",
   "metadata": {},
   "outputs": [
    {
     "name": "stdout",
     "output_type": "stream",
     "text": [
      "Namespace(train_ratio=0.8, batch_size=256, n_epochs=50, verbose=1, btl_size=2)\n"
     ]
    }
   ],
   "source": [
    "from argparse import Namespace\n",
    "\n",
    "config = {\n",
    "    'train_ratio' : .8,\n",
    "    'batch_size' : 256,\n",
    "    'n_epochs' : 50,\n",
    "    'verbose' : 1,\n",
    "    'btl_size' : 2\n",
    "}\n",
    "\n",
    "config = Namespace(**config)\n",
    "\n",
    "print(config)"
   ]
  },
  {
   "cell_type": "code",
   "execution_count": 7,
   "id": "991f35cf",
   "metadata": {},
   "outputs": [
    {
     "ename": "AttributeError",
     "evalue": "'MNIST' object has no attribute 'tragets'",
     "output_type": "error",
     "traceback": [
      "\u001b[1;31m---------------------------------------------------------------------------\u001b[0m",
      "\u001b[1;31mAttributeError\u001b[0m                            Traceback (most recent call last)",
      "Input \u001b[1;32mIn [7]\u001b[0m, in \u001b[0;36m<cell line: 1>\u001b[1;34m()\u001b[0m\n\u001b[1;32m----> 1\u001b[0m train_x, train_y \u001b[38;5;241m=\u001b[39m \u001b[43mload_mnist\u001b[49m\u001b[43m(\u001b[49m\u001b[43mflatten\u001b[49m\u001b[38;5;241;43m=\u001b[39;49m\u001b[38;5;28;43;01mTrue\u001b[39;49;00m\u001b[43m)\u001b[49m\n\u001b[0;32m      2\u001b[0m test_x, test_y \u001b[38;5;241m=\u001b[39m load_mnist(is_train\u001b[38;5;241m=\u001b[39m\u001b[38;5;28;01mFalse\u001b[39;00m, flatten \u001b[38;5;241m=\u001b[39m \u001b[38;5;28;01mTrue\u001b[39;00m)\n\u001b[0;32m      4\u001b[0m train_cnt \u001b[38;5;241m=\u001b[39m \u001b[38;5;28mint\u001b[39m(train_x\u001b[38;5;241m.\u001b[39msize(\u001b[38;5;241m0\u001b[39m) \u001b[38;5;241m*\u001b[39m config\u001b[38;5;241m.\u001b[39mtrain_ratio)\n",
      "File \u001b[1;32m~\\deeplearning\\nlp_basics\\practice\\NLP_Basic\\manifold\\utils.py:12\u001b[0m, in \u001b[0;36mload_mnist\u001b[1;34m(is_train, flatten)\u001b[0m\n\u001b[0;32m      4\u001b[0m dataset \u001b[38;5;241m=\u001b[39m datasets\u001b[38;5;241m.\u001b[39mMNIST(\n\u001b[0;32m      5\u001b[0m     \u001b[38;5;124m'\u001b[39m\u001b[38;5;124m../data\u001b[39m\u001b[38;5;124m'\u001b[39m, train\u001b[38;5;241m=\u001b[39mis_train, download\u001b[38;5;241m=\u001b[39m\u001b[38;5;28;01mTrue\u001b[39;00m,\n\u001b[0;32m      6\u001b[0m     transform\u001b[38;5;241m=\u001b[39mtransforms\u001b[38;5;241m.\u001b[39mCompose([\n\u001b[0;32m      7\u001b[0m         transforms\u001b[38;5;241m.\u001b[39mToTensor(),\n\u001b[0;32m      8\u001b[0m     ]),\n\u001b[0;32m      9\u001b[0m )\n\u001b[0;32m     11\u001b[0m x \u001b[38;5;241m=\u001b[39m dataset\u001b[38;5;241m.\u001b[39mdata\u001b[38;5;241m.\u001b[39mfloat() \u001b[38;5;241m/\u001b[39m \u001b[38;5;241m255.\u001b[39m\n\u001b[1;32m---> 12\u001b[0m y \u001b[38;5;241m=\u001b[39m \u001b[43mdataset\u001b[49m\u001b[38;5;241;43m.\u001b[39;49m\u001b[43mtragets\u001b[49m\n\u001b[0;32m     14\u001b[0m \u001b[38;5;28;01mif\u001b[39;00m flatten:\n\u001b[0;32m     15\u001b[0m     x \u001b[38;5;241m=\u001b[39m x\u001b[38;5;241m.\u001b[39mview(x\u001b[38;5;241m.\u001b[39msize(\u001b[38;5;241m0\u001b[39m), \u001b[38;5;241m-\u001b[39m\u001b[38;5;241m1\u001b[39m)\n",
      "\u001b[1;31mAttributeError\u001b[0m: 'MNIST' object has no attribute 'tragets'"
     ]
    }
   ],
   "source": [
    "train_x, train_y = load_mnist(flatten=True)\n",
    "test_x, test_y = load_mnist(is_train=False, flatten = True)\n",
    "\n",
    "train_cnt = int(train_x.size(0) * config.train_ratio)\n",
    "valid_cnt = train_x.size(0) - train_cnt\n",
    "\n",
    "# Shuffle dataset to split into train/valid set.\n",
    "indices = torch.randperm(train_x.size(0))\n",
    "train_x, valid_x = torch.index_select(\n",
    "    train_x,\n",
    "    dim = 0,\n",
    "    index = indices\n",
    ").split([train_cnt, valid_cnt], dim = 0)\n",
    "\n",
    "print('Train:', train_x.shape, train_y.shape)\n",
    "print('Valid:', valid_x.shape, valid_y.shape)\n",
    "print('Test:', test_x.shape, test_y.shape)"
   ]
  },
  {
   "cell_type": "code",
   "execution_count": null,
   "id": "d6769c63",
   "metadata": {},
   "outputs": [],
   "source": [
    "from model import Autoencoder"
   ]
  },
  {
   "cell_type": "code",
   "execution_count": null,
   "id": "76bb2d4c",
   "metadata": {},
   "outputs": [],
   "source": [
    "model = Autoencoder(btl_size = config.btl_size)\n",
    "optimizer = optim.Adam(model.parameters())\n",
    "crit = nn.MSELoss()\n",
    "\n",
    "trainer = Trainer(model, optimizer, crit)"
   ]
  },
  {
   "cell_type": "code",
   "execution_count": null,
   "id": "875a412c",
   "metadata": {},
   "outputs": [],
   "source": [
    "trainer.train((train_x, train_x), (valid_x, valid_x), config)"
   ]
  },
  {
   "cell_type": "markdown",
   "id": "65cf9dc9",
   "metadata": {},
   "source": [
    "# Mean value in each space"
   ]
  },
  {
   "cell_type": "code",
   "execution_count": null,
   "id": "2f2f55cf",
   "metadata": {},
   "outputs": [],
   "source": [
    "with torch.no_grad():\n",
    "    import random\n",
    "    \n",
    "    index1 = int(random.random() * test_x.size(0))\n",
    "    index2 = int(random.random() * test_x.size(0))\n",
    "    \n",
    "    z1 = model.encoder(test_x[index1].view(1, -1))\n",
    "    z2 = model.encoder(test_x[index2].view(1, -1))\n",
    "    \n",
    "    recon = model.decoder((z1+z2) / 2).squeeze()\n",
    "    \n",
    "    show_image(test_x[index1])\n",
    "    show_image(test_x[index2])\n",
    "    show_image((test_x[index1] + test_x[index2]) / 2)\n",
    "    show_image(recon)"
   ]
  }
 ],
 "metadata": {
  "kernelspec": {
   "display_name": "Python 3",
   "language": "python",
   "name": "python3"
  },
  "language_info": {
   "codemirror_mode": {
    "name": "ipython",
    "version": 3
   },
   "file_extension": ".py",
   "mimetype": "text/x-python",
   "name": "python",
   "nbconvert_exporter": "python",
   "pygments_lexer": "ipython3",
   "version": "3.9.12"
  }
 },
 "nbformat": 4,
 "nbformat_minor": 5
}
