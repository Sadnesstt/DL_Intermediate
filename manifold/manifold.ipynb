{
 "cells": [
  {
   "cell_type": "code",
   "execution_count": 1,
   "id": "d7f3ea8e",
   "metadata": {},
   "outputs": [],
   "source": [
    "import numpy as np\n",
    "import matplotlib.pyplot as plt"
   ]
  },
  {
   "cell_type": "code",
   "execution_count": 2,
   "id": "8944b292",
   "metadata": {},
   "outputs": [],
   "source": [
    "import torch\n",
    "import torch.nn as nn\n",
    "import torch.optim as optim"
   ]
  },
  {
   "cell_type": "code",
   "execution_count": 3,
   "id": "d10c09d2",
   "metadata": {},
   "outputs": [],
   "source": [
    "from utils import load_mnist\n",
    "from trainer import Trainer"
   ]
  },
  {
   "cell_type": "code",
   "execution_count": 4,
   "id": "543ba4b9",
   "metadata": {},
   "outputs": [],
   "source": [
    "def show_image(x):\n",
    "    if x.dim() == 1:\n",
    "        x = x.view(int(x.size(0) ** .5), -1)\n",
    "        \n",
    "    plt.imshow(x, cmap = 'gray')\n",
    "    plt.show()"
   ]
  },
  {
   "cell_type": "code",
   "execution_count": 5,
   "id": "450800e1",
   "metadata": {},
   "outputs": [
    {
     "name": "stdout",
     "output_type": "stream",
     "text": [
      "Namespace(train_ratio=0.8, batch_size=256, n_epochs=50, verbose=1, btl_size=2)\n"
     ]
    }
   ],
   "source": [
    "from argparse import Namespace\n",
    "\n",
    "config = {\n",
    "    'train_ratio' : .8,\n",
    "    'batch_size' : 256,\n",
    "    'n_epochs' : 50,\n",
    "    'verbose' : 1,\n",
    "    'btl_size' : 2\n",
    "}\n",
    "\n",
    "config = Namespace(**config)\n",
    "\n",
    "print(config)"
   ]
  },
  {
   "cell_type": "code",
   "execution_count": 7,
   "id": "991f35cf",
   "metadata": {},
   "outputs": [
    {
     "name": "stdout",
     "output_type": "stream",
     "text": [
      "Train: torch.Size([48000, 784]) torch.Size([48000])\n",
      "Valid: torch.Size([12000, 784]) torch.Size([12000])\n",
      "Test: torch.Size([10000, 784]) torch.Size([10000])\n"
     ]
    }
   ],
   "source": [
    "train_x, train_y = load_mnist(flatten=True)\n",
    "test_x, test_y = load_mnist(is_train=False, flatten = True)\n",
    "\n",
    "train_cnt = int(train_x.size(0) * config.train_ratio)\n",
    "valid_cnt = train_x.size(0) - train_cnt\n",
    "\n",
    "# Shuffle dataset to split into train/valid set.\n",
    "indices = torch.randperm(train_x.size(0))\n",
    "train_x, valid_x = torch.index_select(\n",
    "    train_x,\n",
    "    dim = 0,\n",
    "    index = indices\n",
    ").split([train_cnt, valid_cnt], dim = 0)\n",
    "train_y, valid_y = torch.index_select(\n",
    "    train_y,\n",
    "    dim = 0,\n",
    "    index = indices\n",
    ").split([train_cnt, valid_cnt], dim = 0)\n",
    "\n",
    "print('Train:', train_x.shape, train_y.shape)\n",
    "print('Valid:', valid_x.shape, valid_y.shape)\n",
    "print('Test:', test_x.shape, test_y.shape)"
   ]
  },
  {
   "cell_type": "code",
   "execution_count": 8,
   "id": "d6769c63",
   "metadata": {},
   "outputs": [],
   "source": [
    "from model import Autoencoder"
   ]
  },
  {
   "cell_type": "code",
   "execution_count": 9,
   "id": "76bb2d4c",
   "metadata": {},
   "outputs": [],
   "source": [
    "model = Autoencoder(btl_size = config.btl_size)\n",
    "optimizer = optim.Adam(model.parameters())\n",
    "crit = nn.MSELoss()\n",
    "\n",
    "trainer = Trainer(model, optimizer, crit)"
   ]
  },
  {
   "cell_type": "code",
   "execution_count": 10,
   "id": "875a412c",
   "metadata": {},
   "outputs": [
    {
     "name": "stdout",
     "output_type": "stream",
     "text": [
      "Epoch(1/50): train_loss = 7.3066e-02 valid_loss = 4.8975e-02 lowest_loss = 4.8975e-02\n",
      "Epoch(2/50): train_loss = 4.7009e-02 valid_loss = 4.5328e-02 lowest_loss = 4.5328e-02\n",
      "Epoch(3/50): train_loss = 4.4493e-02 valid_loss = 4.3358e-02 lowest_loss = 4.3358e-02\n",
      "Epoch(4/50): train_loss = 4.3125e-02 valid_loss = 4.1964e-02 lowest_loss = 4.1964e-02\n",
      "Epoch(5/50): train_loss = 4.2212e-02 valid_loss = 4.1874e-02 lowest_loss = 4.1874e-02\n",
      "Epoch(6/50): train_loss = 4.1571e-02 valid_loss = 4.0454e-02 lowest_loss = 4.0454e-02\n",
      "Epoch(7/50): train_loss = 4.1018e-02 valid_loss = 4.0029e-02 lowest_loss = 4.0029e-02\n",
      "Epoch(8/50): train_loss = 4.0742e-02 valid_loss = 4.0001e-02 lowest_loss = 4.0001e-02\n",
      "Epoch(9/50): train_loss = 4.0740e-02 valid_loss = 3.9467e-02 lowest_loss = 3.9467e-02\n",
      "Epoch(10/50): train_loss = 4.0103e-02 valid_loss = 3.8870e-02 lowest_loss = 3.8870e-02\n",
      "Epoch(11/50): train_loss = 3.9779e-02 valid_loss = 3.9118e-02 lowest_loss = 3.8870e-02\n",
      "Epoch(12/50): train_loss = 3.9724e-02 valid_loss = 3.8796e-02 lowest_loss = 3.8796e-02\n",
      "Epoch(13/50): train_loss = 3.9547e-02 valid_loss = 3.9230e-02 lowest_loss = 3.8796e-02\n",
      "Epoch(14/50): train_loss = 3.9438e-02 valid_loss = 3.9021e-02 lowest_loss = 3.8796e-02\n",
      "Epoch(15/50): train_loss = 3.9219e-02 valid_loss = 3.8294e-02 lowest_loss = 3.8294e-02\n",
      "Epoch(16/50): train_loss = 3.9042e-02 valid_loss = 3.8278e-02 lowest_loss = 3.8278e-02\n",
      "Epoch(17/50): train_loss = 3.9050e-02 valid_loss = 3.8599e-02 lowest_loss = 3.8278e-02\n",
      "Epoch(18/50): train_loss = 3.8946e-02 valid_loss = 3.7855e-02 lowest_loss = 3.7855e-02\n",
      "Epoch(19/50): train_loss = 3.8709e-02 valid_loss = 3.7763e-02 lowest_loss = 3.7763e-02\n",
      "Epoch(20/50): train_loss = 3.8442e-02 valid_loss = 3.8000e-02 lowest_loss = 3.7763e-02\n",
      "Epoch(21/50): train_loss = 3.8276e-02 valid_loss = 3.7512e-02 lowest_loss = 3.7512e-02\n",
      "Epoch(22/50): train_loss = 3.8079e-02 valid_loss = 3.7638e-02 lowest_loss = 3.7512e-02\n",
      "Epoch(23/50): train_loss = 3.8237e-02 valid_loss = 3.7280e-02 lowest_loss = 3.7280e-02\n",
      "Epoch(24/50): train_loss = 3.8050e-02 valid_loss = 3.6834e-02 lowest_loss = 3.6834e-02\n",
      "Epoch(25/50): train_loss = 3.7828e-02 valid_loss = 3.7701e-02 lowest_loss = 3.6834e-02\n",
      "Epoch(26/50): train_loss = 3.7984e-02 valid_loss = 3.7599e-02 lowest_loss = 3.6834e-02\n",
      "Epoch(27/50): train_loss = 3.7849e-02 valid_loss = 3.6884e-02 lowest_loss = 3.6834e-02\n",
      "Epoch(28/50): train_loss = 3.8020e-02 valid_loss = 3.7282e-02 lowest_loss = 3.6834e-02\n",
      "Epoch(29/50): train_loss = 3.7753e-02 valid_loss = 3.6629e-02 lowest_loss = 3.6629e-02\n",
      "Epoch(30/50): train_loss = 3.7734e-02 valid_loss = 3.6741e-02 lowest_loss = 3.6629e-02\n",
      "Epoch(31/50): train_loss = 3.7901e-02 valid_loss = 3.7829e-02 lowest_loss = 3.6629e-02\n",
      "Epoch(32/50): train_loss = 3.8135e-02 valid_loss = 3.7419e-02 lowest_loss = 3.6629e-02\n",
      "Epoch(33/50): train_loss = 3.7670e-02 valid_loss = 3.8403e-02 lowest_loss = 3.6629e-02\n",
      "Epoch(34/50): train_loss = 3.7619e-02 valid_loss = 3.6787e-02 lowest_loss = 3.6629e-02\n",
      "Epoch(35/50): train_loss = 3.7413e-02 valid_loss = 3.6800e-02 lowest_loss = 3.6629e-02\n",
      "Epoch(36/50): train_loss = 3.7622e-02 valid_loss = 3.6555e-02 lowest_loss = 3.6555e-02\n",
      "Epoch(37/50): train_loss = 3.7385e-02 valid_loss = 3.6586e-02 lowest_loss = 3.6555e-02\n",
      "Epoch(38/50): train_loss = 3.7739e-02 valid_loss = 3.7323e-02 lowest_loss = 3.6555e-02\n",
      "Epoch(39/50): train_loss = 3.7639e-02 valid_loss = 3.7005e-02 lowest_loss = 3.6555e-02\n",
      "Epoch(40/50): train_loss = 3.7761e-02 valid_loss = 3.6362e-02 lowest_loss = 3.6362e-02\n",
      "Epoch(41/50): train_loss = 3.7292e-02 valid_loss = 3.6381e-02 lowest_loss = 3.6362e-02\n",
      "Epoch(42/50): train_loss = 3.7297e-02 valid_loss = 3.6153e-02 lowest_loss = 3.6153e-02\n",
      "Epoch(43/50): train_loss = 3.6899e-02 valid_loss = 3.6352e-02 lowest_loss = 3.6153e-02\n",
      "Epoch(44/50): train_loss = 3.6859e-02 valid_loss = 3.6365e-02 lowest_loss = 3.6153e-02\n",
      "Epoch(45/50): train_loss = 3.6779e-02 valid_loss = 3.5936e-02 lowest_loss = 3.5936e-02\n",
      "Epoch(46/50): train_loss = 3.6800e-02 valid_loss = 3.5891e-02 lowest_loss = 3.5891e-02\n",
      "Epoch(47/50): train_loss = 3.6569e-02 valid_loss = 3.5677e-02 lowest_loss = 3.5677e-02\n",
      "Epoch(48/50): train_loss = 3.6466e-02 valid_loss = 3.5749e-02 lowest_loss = 3.5677e-02\n",
      "Epoch(49/50): train_loss = 3.6286e-02 valid_loss = 3.5738e-02 lowest_loss = 3.5677e-02\n",
      "Epoch(50/50): train_loss = 3.6309e-02 valid_loss = 3.5317e-02 lowest_loss = 3.5317e-02\n"
     ]
    }
   ],
   "source": [
    "trainer.train((train_x, train_x), (valid_x, valid_x), config)"
   ]
  },
  {
   "cell_type": "markdown",
   "id": "65cf9dc9",
   "metadata": {},
   "source": [
    "# Mean value in each space"
   ]
  },
  {
   "cell_type": "code",
   "execution_count": 11,
   "id": "2f2f55cf",
   "metadata": {},
   "outputs": [
    {
     "data": {
      "image/png": "[encoded data removed]",
      "text/plain": [
       "<Figure size 432x288 with 1 Axes>"
      ]
     },
     "metadata": {
      "needs_background": "light"
     },
     "output_type": "display_data"
    },
    {
     "data": {
      "image/png": "[encoded data removed]",
      "text/plain": [
       "<Figure size 432x288 with 1 Axes>"
      ]
     },
     "metadata": {
      "needs_background": "light"
     },
     "output_type": "display_data"
    },
    {
     "data": {
      "image/png": "[encoded data removed]",
      "text/plain": [
       "<Figure size 432x288 with 1 Axes>"
      ]
     },
     "metadata": {
      "needs_background": "light"
     },
     "output_type": "display_data"
    },
    {
     "data": {
      "image/png": "[encoded data removed]",
      "text/plain": [
       "<Figure size 432x288 with 1 Axes>"
      ]
     },
     "metadata": {
      "needs_background": "light"
     },
     "output_type": "display_data"
    }
   ],
   "source": [
    "with torch.no_grad():\n",
    "    import random\n",
    "    \n",
    "    index1 = int(random.random() * test_x.size(0))\n",
    "    index2 = int(random.random() * test_x.size(0))\n",
    "    \n",
    "    z1 = model.encoder(test_x[index1].view(1, -1))\n",
    "    z2 = model.encoder(test_x[index2].view(1, -1))\n",
    "    \n",
    "    recon = model.decoder((z1+z2) / 2).squeeze()\n",
    "    \n",
    "    show_image(test_x[index1])\n",
    "    show_image(test_x[index2])\n",
    "    show_image((test_x[index1] + test_x[index2]) / 2)\n",
    "    show_image(recon)"
   ]
  }
 ],
 "metadata": {
  "kernelspec": {
   "display_name": "Python 3",
   "language": "python",
   "name": "python3"
  },
  "language_info": {
   "codemirror_mode": {
    "name": "ipython",
    "version": 3
   },
   "file_extension": ".py",
   "mimetype": "text/x-python",
   "name": "python",
   "nbconvert_exporter": "python",
   "pygments_lexer": "ipython3",
   "version": "3.9.12"
  }
 },
 "nbformat": 4,
 "nbformat_minor": 5
}
