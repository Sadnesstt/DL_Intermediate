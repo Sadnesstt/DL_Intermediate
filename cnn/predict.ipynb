{
 "cells": [
  {
   "cell_type": "markdown",
   "id": "193642e7",
   "metadata": {},
   "source": [
    "# Practical Exercise with MNIST Example"
   ]
  },
  {
   "cell_type": "code",
   "execution_count": 1,
   "id": "e93a340b",
   "metadata": {},
   "outputs": [],
   "source": [
    "import torch\n",
    "import torch.nn"
   ]
  },
  {
   "cell_type": "code",
   "execution_count": 2,
   "id": "8b9f2ffb",
   "metadata": {},
   "outputs": [],
   "source": [
    "import sys\n",
    "import numpy as np\n",
    "import matplotlib.pyplot as plt\n",
    "\n",
    "from mnist_classification.data_loader import load_mnist\n",
    "\n",
    "from mnist_classification.models.fc_model import FullyConnectedClassifier\n",
    "from mnist_classification.models.cnn_model import ConvolutionalClassifier"
   ]
  },
  {
   "cell_type": "code",
   "execution_count": 3,
   "id": "e1eea8d5",
   "metadata": {},
   "outputs": [],
   "source": [
    "model_fn = './model.pth'"
   ]
  },
  {
   "cell_type": "code",
   "execution_count": 4,
   "id": "5844665a",
   "metadata": {},
   "outputs": [],
   "source": [
    "device = torch.device('cuda') if torch.cuda.is_available() else torch.device('cpu')"
   ]
  },
  {
   "cell_type": "code",
   "execution_count": 5,
   "id": "c5eacee3",
   "metadata": {},
   "outputs": [],
   "source": [
    "def load(fn, device):\n",
    "    d = torch.load(fn, map_location = device)\n",
    "    \n",
    "    return d['config'], d['model']"
   ]
  },
  {
   "cell_type": "code",
   "execution_count": 6,
   "id": "c15e41da",
   "metadata": {},
   "outputs": [],
   "source": [
    "def plot(x, y_hat):\n",
    "    for i in range(x.size(0)):\n",
    "        img = (np.array(x[i].detach().cpu(), dtype = 'float')).reshape(28, 28)\n",
    "        \n",
    "        plt.imshow(img, cmap = 'gray')\n",
    "        plt.show()\n",
    "        print('Predict:', float(torch.argmax(y_hat[i], dim = -1)))"
   ]
  },
  {
   "cell_type": "code",
   "execution_count": 7,
   "id": "14f67476",
   "metadata": {},
   "outputs": [],
   "source": [
    "def test(model, x, y, to_be_shown=True):\n",
    "    model.eval()\n",
    "    \n",
    "    with torch.no_grad():\n",
    "        y_hat = model(x)\n",
    "        \n",
    "        correct_cnt = (y.squeeze() == torch.argmax(y_hat, dim = -1)).sum()\n",
    "        total_cnt = float(x.size(0))\n",
    "        \n",
    "        accuracy = correct_cnt / total_cnt\n",
    "        print('Accuracy: %.4f' % accuracy)\n",
    "        \n",
    "        if to_be_shown:\n",
    "            plot(x, y_hat)"
   ]
  },
  {
   "cell_type": "code",
   "execution_count": 8,
   "id": "dfdd295b",
   "metadata": {},
   "outputs": [],
   "source": [
    "from train import get_model"
   ]
  },
  {
   "cell_type": "code",
   "execution_count": 9,
   "id": "fc512d4d",
   "metadata": {},
   "outputs": [
    {
     "name": "stdout",
     "output_type": "stream",
     "text": [
      "ConvolutionalClassifier(\n",
      "  (blocks): Sequential(\n",
      "    (0): ConvolutionBlock(\n",
      "      (layers): Sequential(\n",
      "        (0): Conv2d(1, 32, kernel_size=(3, 3), stride=(1, 1), padding=(1, 1))\n",
      "        (1): ReLU()\n",
      "        (2): BatchNorm2d(32, eps=1e-05, momentum=0.1, affine=True, track_running_stats=True)\n",
      "        (3): Conv2d(32, 32, kernel_size=(3, 3), stride=(2, 2), padding=(1, 1))\n",
      "        (4): ReLU()\n",
      "        (5): BatchNorm2d(32, eps=1e-05, momentum=0.1, affine=True, track_running_stats=True)\n",
      "      )\n",
      "    )\n",
      "    (1): ConvolutionBlock(\n",
      "      (layers): Sequential(\n",
      "        (0): Conv2d(32, 64, kernel_size=(3, 3), stride=(1, 1), padding=(1, 1))\n",
      "        (1): ReLU()\n",
      "        (2): BatchNorm2d(64, eps=1e-05, momentum=0.1, affine=True, track_running_stats=True)\n",
      "        (3): Conv2d(64, 64, kernel_size=(3, 3), stride=(2, 2), padding=(1, 1))\n",
      "        (4): ReLU()\n",
      "        (5): BatchNorm2d(64, eps=1e-05, momentum=0.1, affine=True, track_running_stats=True)\n",
      "      )\n",
      "    )\n",
      "    (2): ConvolutionBlock(\n",
      "      (layers): Sequential(\n",
      "        (0): Conv2d(64, 128, kernel_size=(3, 3), stride=(1, 1), padding=(1, 1))\n",
      "        (1): ReLU()\n",
      "        (2): BatchNorm2d(128, eps=1e-05, momentum=0.1, affine=True, track_running_stats=True)\n",
      "        (3): Conv2d(128, 128, kernel_size=(3, 3), stride=(2, 2), padding=(1, 1))\n",
      "        (4): ReLU()\n",
      "        (5): BatchNorm2d(128, eps=1e-05, momentum=0.1, affine=True, track_running_stats=True)\n",
      "      )\n",
      "    )\n",
      "    (3): ConvolutionBlock(\n",
      "      (layers): Sequential(\n",
      "        (0): Conv2d(128, 256, kernel_size=(3, 3), stride=(1, 1), padding=(1, 1))\n",
      "        (1): ReLU()\n",
      "        (2): BatchNorm2d(256, eps=1e-05, momentum=0.1, affine=True, track_running_stats=True)\n",
      "        (3): Conv2d(256, 256, kernel_size=(3, 3), stride=(2, 2), padding=(1, 1))\n",
      "        (4): ReLU()\n",
      "        (5): BatchNorm2d(256, eps=1e-05, momentum=0.1, affine=True, track_running_stats=True)\n",
      "      )\n",
      "    )\n",
      "    (4): ConvolutionBlock(\n",
      "      (layers): Sequential(\n",
      "        (0): Conv2d(256, 512, kernel_size=(3, 3), stride=(1, 1), padding=(1, 1))\n",
      "        (1): ReLU()\n",
      "        (2): BatchNorm2d(512, eps=1e-05, momentum=0.1, affine=True, track_running_stats=True)\n",
      "        (3): Conv2d(512, 512, kernel_size=(3, 3), stride=(2, 2), padding=(1, 1))\n",
      "        (4): ReLU()\n",
      "        (5): BatchNorm2d(512, eps=1e-05, momentum=0.1, affine=True, track_running_stats=True)\n",
      "      )\n",
      "    )\n",
      "  )\n",
      "  (layers): Sequential(\n",
      "    (0): Linear(in_features=512, out_features=50, bias=True)\n",
      "    (1): ReLU()\n",
      "    (2): BatchNorm1d(50, eps=1e-05, momentum=0.1, affine=True, track_running_stats=True)\n",
      "    (3): Linear(in_features=50, out_features=10, bias=True)\n",
      "    (4): LogSoftmax(dim=-1)\n",
      "  )\n",
      ")\n"
     ]
    }
   ],
   "source": [
    "train_config, state_dict = load(model_fn, device)\n",
    "\n",
    "model = get_model(train_config).to(device)\n",
    "model.load_state_dict(state_dict)\n",
    "\n",
    "print(model)"
   ]
  },
  {
   "cell_type": "code",
   "execution_count": null,
   "id": "cee67ed1",
   "metadata": {},
   "outputs": [],
   "source": [
    "# Load MNIST "
   ]
  }
 ],
 "metadata": {
  "kernelspec": {
   "display_name": "Python 3",
   "language": "python",
   "name": "python3"
  },
  "language_info": {
   "codemirror_mode": {
    "name": "ipython",
    "version": 3
   },
   "file_extension": ".py",
   "mimetype": "text/x-python",
   "name": "python",
   "nbconvert_exporter": "python",
   "pygments_lexer": "ipython3",
   "version": "3.9.12"
  }
 },
 "nbformat": 4,
 "nbformat_minor": 5
}
