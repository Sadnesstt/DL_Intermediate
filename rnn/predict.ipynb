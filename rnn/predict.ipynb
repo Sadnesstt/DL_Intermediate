{
 "cells": [
  {
   "cell_type": "markdown",
   "id": "348f7aa6",
   "metadata": {},
   "source": [
    "# Practical Exercise with MNIST Example"
   ]
  },
  {
   "cell_type": "code",
   "execution_count": null,
   "id": "5c90802c",
   "metadata": {},
   "outputs": [],
   "source": [
    "import torch\n",
    "import torch.nn"
   ]
  },
  {
   "cell_type": "code",
   "execution_count": null,
   "id": "876c5fe2",
   "metadata": {},
   "outputs": [],
   "source": [
    "import sys\n",
    "import numpy as np\n",
    "import matplotlib.pyplot as plt\n",
    "\n",
    "from mnist_classification.data_loader import load_mnist\n",
    "\n",
    "from mnist_classification.models.fc_model import FullyConnectedClassifier\n",
    "from mnist_classification.models.cnn_model import ConvolutionalClassifier\n",
    "from mnist_classification.models.rnn_model import SequenceClassifier"
   ]
  },
  {
   "cell_type": "code",
   "execution_count": null,
   "id": "a8f67750",
   "metadata": {},
   "outputs": [],
   "source": [
    "model_fn = \"./model.pth\""
   ]
  },
  {
   "cell_type": "code",
   "execution_count": null,
   "id": "3eee651b",
   "metadata": {},
   "outputs": [],
   "source": [
    "device = torch.device('cuda') if torch.cuda.is_available() else torch.device('cpu')"
   ]
  },
  {
   "cell_type": "code",
   "execution_count": null,
   "id": "88bdcf86",
   "metadata": {},
   "outputs": [],
   "source": [
    "def load(fn, device):\n",
    "    d = torch.load(fn, map_location = device)\n",
    "    \n",
    "    return d['config'], d['model']"
   ]
  },
  {
   "cell_type": "code",
   "execution_count": null,
   "id": "dd980ff9",
   "metadata": {},
   "outputs": [],
   "source": [
    "def plot(x, y_hat):\n",
    "    for i in range(x.size(0)):\n",
    "        img = (np.array(x[i].detach().cpu(), dtype = 'float')).reshape(28, 28)\n",
    "        \n",
    "        plt.imshow(img, cmap = 'gray')\n",
    "        plt.show()\n",
    "        print('Predict:', float(torch.argmax(y_hat[i], dim = -1)))"
   ]
  },
  {
   "cell_type": "code",
   "execution_count": null,
   "id": "a520e16a",
   "metadata": {},
   "outputs": [],
   "source": [
    "def test(model, x, y, to_be_shown=True):\n",
    "    model.eval()\n",
    "    \n",
    "    with torch.no_grad():\n",
    "        y_hat = model(x)\n",
    "        \n",
    "        correct_cnt = (y.squeeze() == torch.argmax(y_hat, dim = -1)).sum()\n",
    "        total_cnt = float(x.size(0))\n",
    "        \n",
    "        accuracy = correct_cnt / total_cnt\n",
    "        print('Accuracy: %.4f' % accuracy)\n",
    "        \n",
    "        if to_be_shown:\n",
    "            plot(x, y_hat)"
   ]
  },
  {
   "cell_type": "code",
   "execution_count": null,
   "id": "6f2b1a34",
   "metadata": {},
   "outputs": [],
   "source": [
    "from train import get_model\n",
    "\n",
    "train_config, state_dict = load(model_fn, device)\n",
    "\n",
    "model = get_model(train_config).to(device)\n",
    "model.load_state_dict(state_dict)\n",
    "\n",
    "print(model)"
   ]
  },
  {
   "cell_type": "code",
   "execution_count": null,
   "id": "0ce8ee95",
   "metadata": {},
   "outputs": [],
   "source": [
    "# Load MNIST test set.\n",
    "x, y = load_mnist(is_train = False,\n",
    "                 flatten = True if train_config.model == 'fc' else False)\n",
    "\n",
    "x, y = x.to(device), y.to(device)\n",
    "\n",
    "test(model, x[:20], y[:20], to_be_shown = True)"
   ]
  }
 ],
 "metadata": {
  "kernelspec": {
   "display_name": "Python 3",
   "language": "python",
   "name": "python3"
  },
  "language_info": {
   "codemirror_mode": {
    "name": "ipython",
    "version": 3
   },
   "file_extension": ".py",
   "mimetype": "text/x-python",
   "name": "python",
   "nbconvert_exporter": "python",
   "pygments_lexer": "ipython3",
   "version": "3.9.12"
  }
 },
 "nbformat": 4,
 "nbformat_minor": 5
}
